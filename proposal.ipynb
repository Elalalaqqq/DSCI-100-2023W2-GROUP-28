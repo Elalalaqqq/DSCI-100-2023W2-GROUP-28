{
 "cells": [
  {
   "cell_type": "code",
   "execution_count": 41,
   "id": "4b7f3c30-51a4-4959-89be-b0aa880bf760",
   "metadata": {},
   "outputs": [],
   "source": [
    "library(tidyverse)\n",
    "library(repr)\n",
    "library(tidymodels)\n",
    "options(repr.matrix.max.rows = 6)"
   ]
  },
  {
   "cell_type": "code",
   "execution_count": 94,
   "id": "c5899391-b5f0-45a4-9254-64108723a64a",
   "metadata": {
    "scrolled": true
   },
   "outputs": [
    {
     "name": "stderr",
     "output_type": "stream",
     "text": [
      "\u001b[36mℹ\u001b[39m Using \u001b[34m\u001b[34m\"','\"\u001b[34m\u001b[39m as decimal and \u001b[34m\u001b[34m\"'.'\"\u001b[34m\u001b[39m as grouping mark. Use `read_delim()` for more control.\n",
      "\n",
      "\u001b[1mRows: \u001b[22m\u001b[34m679\u001b[39m \u001b[1mColumns: \u001b[22m\u001b[34m30\u001b[39m\n",
      "\u001b[36m──\u001b[39m \u001b[1mColumn specification\u001b[22m \u001b[36m────────────────────────────────────────────────────────\u001b[39m\n",
      "\u001b[1mDelimiter:\u001b[22m \";\"\n",
      "\u001b[31mchr\u001b[39m (25): Player, Pos, Tm, FG, FGA, FG%, 3P, 3PA, 3P%, 2P, 2PA, 2P%, eFG%, F...\n",
      "\u001b[32mdbl\u001b[39m  (4): Rk, Age, G, GS\n",
      "\u001b[32mnum\u001b[39m  (1): MP\n",
      "\n",
      "\u001b[36mℹ\u001b[39m Use `spec()` to retrieve the full column specification for this data.\n",
      "\u001b[36mℹ\u001b[39m Specify the column types or set `show_col_types = FALSE` to quiet this message.\n",
      "\u001b[1m\u001b[22mAdding missing grouping variables: `Player`\n",
      "Warning message:\n",
      "“\u001b[1m\u001b[22mThere were 5 warnings in `mutate()`.\n",
      "The first warning was:\n",
      "\u001b[1m\u001b[22m\u001b[36mℹ\u001b[39m In argument: `across(where(is.character), as.numeric)`.\n",
      "\u001b[36mℹ\u001b[39m In group 1: `Pos = \"C\"`.\n",
      "Caused by warning:\n",
      "\u001b[33m!\u001b[39m NAs introduced by coercion\n",
      "\u001b[1m\u001b[22m\u001b[36mℹ\u001b[39m Run `dplyr::last_dplyr_warnings()` to see the 4 remaining warnings.”\n"
     ]
    },
    {
     "data": {
      "text/html": [
       "<table class=\"dataframe\">\n",
       "<caption>A tibble: 5 × 11</caption>\n",
       "<thead>\n",
       "\t<tr><th scope=col>Pos</th><th scope=col>count</th><th scope=col>FTA</th><th scope=col>3PA</th><th scope=col>TRB</th><th scope=col>AST</th><th scope=col>STL</th><th scope=col>BLK</th><th scope=col>TOV</th><th scope=col>PF</th><th scope=col>PTS</th></tr>\n",
       "\t<tr><th scope=col>&lt;chr&gt;</th><th scope=col>&lt;dbl&gt;</th><th scope=col>&lt;dbl&gt;</th><th scope=col>&lt;dbl&gt;</th><th scope=col>&lt;dbl&gt;</th><th scope=col>&lt;dbl&gt;</th><th scope=col>&lt;dbl&gt;</th><th scope=col>&lt;dbl&gt;</th><th scope=col>&lt;dbl&gt;</th><th scope=col>&lt;dbl&gt;</th><th scope=col>&lt;dbl&gt;</th></tr>\n",
       "</thead>\n",
       "<tbody>\n",
       "\t<tr><td>C </td><td>53</td><td>3.016981</td><td>1.488679</td><td>7.358491</td><td>1.949057</td><td>0.6188679</td><td>1.0358491</td><td>1.409434</td><td>2.526415</td><td>12.04528</td></tr>\n",
       "\t<tr><td>PF</td><td>59</td><td>2.325424</td><td>3.101695</td><td>5.040678</td><td>1.959322</td><td>0.6322034</td><td>0.5050847</td><td>1.240678</td><td>1.972881</td><td>10.92373</td></tr>\n",
       "\t<tr><td>PG</td><td>56</td><td>3.041071</td><td>4.641071</td><td>3.446429</td><td>4.973214</td><td>1.0214286</td><td>0.3196429</td><td>1.864286</td><td>1.921429</td><td>14.16964</td></tr>\n",
       "\t<tr><td>SF</td><td>53</td><td>2.181132</td><td>3.901887</td><td>3.849057</td><td>1.843396</td><td>0.7226415</td><td>0.3452830</td><td>1.120755</td><td>1.933962</td><td>11.41887</td></tr>\n",
       "\t<tr><td>SG</td><td>74</td><td>2.274324</td><td>4.587838</td><td>3.245946</td><td>2.658108</td><td>0.7770270</td><td>0.2783784</td><td>1.390541</td><td>1.831081</td><td>12.70405</td></tr>\n",
       "</tbody>\n",
       "</table>\n"
      ],
      "text/latex": [
       "A tibble: 5 × 11\n",
       "\\begin{tabular}{lllllllllll}\n",
       " Pos & count & FTA & 3PA & TRB & AST & STL & BLK & TOV & PF & PTS\\\\\n",
       " <chr> & <dbl> & <dbl> & <dbl> & <dbl> & <dbl> & <dbl> & <dbl> & <dbl> & <dbl> & <dbl>\\\\\n",
       "\\hline\n",
       "\t C  & 53 & 3.016981 & 1.488679 & 7.358491 & 1.949057 & 0.6188679 & 1.0358491 & 1.409434 & 2.526415 & 12.04528\\\\\n",
       "\t PF & 59 & 2.325424 & 3.101695 & 5.040678 & 1.959322 & 0.6322034 & 0.5050847 & 1.240678 & 1.972881 & 10.92373\\\\\n",
       "\t PG & 56 & 3.041071 & 4.641071 & 3.446429 & 4.973214 & 1.0214286 & 0.3196429 & 1.864286 & 1.921429 & 14.16964\\\\\n",
       "\t SF & 53 & 2.181132 & 3.901887 & 3.849057 & 1.843396 & 0.7226415 & 0.3452830 & 1.120755 & 1.933962 & 11.41887\\\\\n",
       "\t SG & 74 & 2.274324 & 4.587838 & 3.245946 & 2.658108 & 0.7770270 & 0.2783784 & 1.390541 & 1.831081 & 12.70405\\\\\n",
       "\\end{tabular}\n"
      ],
      "text/markdown": [
       "\n",
       "A tibble: 5 × 11\n",
       "\n",
       "| Pos &lt;chr&gt; | count &lt;dbl&gt; | FTA &lt;dbl&gt; | 3PA &lt;dbl&gt; | TRB &lt;dbl&gt; | AST &lt;dbl&gt; | STL &lt;dbl&gt; | BLK &lt;dbl&gt; | TOV &lt;dbl&gt; | PF &lt;dbl&gt; | PTS &lt;dbl&gt; |\n",
       "|---|---|---|---|---|---|---|---|---|---|---|\n",
       "| C  | 53 | 3.016981 | 1.488679 | 7.358491 | 1.949057 | 0.6188679 | 1.0358491 | 1.409434 | 2.526415 | 12.04528 |\n",
       "| PF | 59 | 2.325424 | 3.101695 | 5.040678 | 1.959322 | 0.6322034 | 0.5050847 | 1.240678 | 1.972881 | 10.92373 |\n",
       "| PG | 56 | 3.041071 | 4.641071 | 3.446429 | 4.973214 | 1.0214286 | 0.3196429 | 1.864286 | 1.921429 | 14.16964 |\n",
       "| SF | 53 | 2.181132 | 3.901887 | 3.849057 | 1.843396 | 0.7226415 | 0.3452830 | 1.120755 | 1.933962 | 11.41887 |\n",
       "| SG | 74 | 2.274324 | 4.587838 | 3.245946 | 2.658108 | 0.7770270 | 0.2783784 | 1.390541 | 1.831081 | 12.70405 |\n",
       "\n"
      ],
      "text/plain": [
       "  Pos count FTA      3PA      TRB      AST      STL       BLK       TOV     \n",
       "1 C   53    3.016981 1.488679 7.358491 1.949057 0.6188679 1.0358491 1.409434\n",
       "2 PF  59    2.325424 3.101695 5.040678 1.959322 0.6322034 0.5050847 1.240678\n",
       "3 PG  56    3.041071 4.641071 3.446429 4.973214 1.0214286 0.3196429 1.864286\n",
       "4 SF  53    2.181132 3.901887 3.849057 1.843396 0.7226415 0.3452830 1.120755\n",
       "5 SG  74    2.274324 4.587838 3.245946 2.658108 0.7770270 0.2783784 1.390541\n",
       "  PF       PTS     \n",
       "1 2.526415 12.04528\n",
       "2 1.972881 10.92373\n",
       "3 1.921429 14.16964\n",
       "4 1.933962 11.41887\n",
       "5 1.831081 12.70405"
      ]
     },
     "metadata": {},
     "output_type": "display_data"
    }
   ],
   "source": [
    "# Minimum 50 games played\n",
    "download.file(\"https://raw.githubusercontent.com/Elalalaqqq/DSCI-100-2023W2-GROUP-28/main/2022-2023%20NBA%20Player%20Stats%20-%20Regular.csv\", \"data/nbadata.csv\")\n",
    "nbaStats <- read_csv2(\"data/nbadata.csv\")\n",
    "\n",
    "\n",
    "filteredStats <- nbaStats |>\n",
    "                    group_by(Player) |>\n",
    "                    filter(n() == 1 | Tm == \"TOT\", G >= 50, !(Pos %in% c(\"PF-SF\", \"SF-SG\", \"SG-PG\"))) |>\n",
    "                    select(\"Pos\", \"FTA\", \"3PA\", \"G\", \"TRB\":\"PTS\")\n",
    "\n",
    "positionMean <- filteredStats |>\n",
    "                group_by(Pos) |>\n",
    "                mutate(across(where(is.character), as.numeric)) |>\n",
    "                summarize(count = n(), across(everything(), mean, na.rm = TRUE)) |>\n",
    "                select(-Player, -G)\n",
    "\n",
    "positionMean"
   ]
  },
  {
   "cell_type": "code",
   "execution_count": null,
   "id": "671a5da3-8b17-47ab-9d8b-1a7e942379af",
   "metadata": {},
   "outputs": [],
   "source": []
  }
 ],
 "metadata": {
  "kernelspec": {
   "display_name": "R",
   "language": "R",
   "name": "ir"
  },
  "language_info": {
   "codemirror_mode": "r",
   "file_extension": ".r",
   "mimetype": "text/x-r-source",
   "name": "R",
   "pygments_lexer": "r",
   "version": "4.3.1"
  }
 },
 "nbformat": 4,
 "nbformat_minor": 5
}
